{
 "cells": [
  {
   "cell_type": "markdown",
   "id": "352bb4dd",
   "metadata": {},
   "source": [
    "# feature_engineering_homework"
   ]
  },
  {
   "cell_type": "markdown",
   "id": "5a3fe225",
   "metadata": {},
   "source": [
    "The goal of this notebook is to create some new features using our test dataset."
   ]
  },
  {
   "cell_type": "code",
   "execution_count": 2,
   "id": "233bd36b",
   "metadata": {},
   "outputs": [
    {
     "data": {
      "text/html": [
       "<div>\n",
       "<style scoped>\n",
       "    .dataframe tbody tr th:only-of-type {\n",
       "        vertical-align: middle;\n",
       "    }\n",
       "\n",
       "    .dataframe tbody tr th {\n",
       "        vertical-align: top;\n",
       "    }\n",
       "\n",
       "    .dataframe thead th {\n",
       "        text-align: right;\n",
       "    }\n",
       "</style>\n",
       "<table border=\"1\" class=\"dataframe\">\n",
       "  <thead>\n",
       "    <tr style=\"text-align: right;\">\n",
       "      <th></th>\n",
       "      <th>Date</th>\n",
       "      <th>Open</th>\n",
       "      <th>High</th>\n",
       "      <th>Low</th>\n",
       "      <th>Close</th>\n",
       "      <th>Adj Close</th>\n",
       "      <th>Volume</th>\n",
       "    </tr>\n",
       "  </thead>\n",
       "  <tbody>\n",
       "    <tr>\n",
       "      <th>0</th>\n",
       "      <td>2020-01-02</td>\n",
       "      <td>28.600000</td>\n",
       "      <td>28.650000</td>\n",
       "      <td>28.459999</td>\n",
       "      <td>28.639999</td>\n",
       "      <td>26.480253</td>\n",
       "      <td>262800</td>\n",
       "    </tr>\n",
       "    <tr>\n",
       "      <th>1</th>\n",
       "      <td>2020-01-03</td>\n",
       "      <td>28.250000</td>\n",
       "      <td>28.379999</td>\n",
       "      <td>28.080000</td>\n",
       "      <td>28.129999</td>\n",
       "      <td>26.008713</td>\n",
       "      <td>663600</td>\n",
       "    </tr>\n",
       "    <tr>\n",
       "      <th>2</th>\n",
       "      <td>2020-01-06</td>\n",
       "      <td>27.719999</td>\n",
       "      <td>28.059999</td>\n",
       "      <td>27.719999</td>\n",
       "      <td>28.049999</td>\n",
       "      <td>25.934746</td>\n",
       "      <td>463000</td>\n",
       "    </tr>\n",
       "    <tr>\n",
       "      <th>3</th>\n",
       "      <td>2020-01-07</td>\n",
       "      <td>28.389999</td>\n",
       "      <td>28.389999</td>\n",
       "      <td>28.180000</td>\n",
       "      <td>28.209999</td>\n",
       "      <td>26.082678</td>\n",
       "      <td>341800</td>\n",
       "    </tr>\n",
       "    <tr>\n",
       "      <th>4</th>\n",
       "      <td>2020-01-08</td>\n",
       "      <td>27.990000</td>\n",
       "      <td>28.219999</td>\n",
       "      <td>27.990000</td>\n",
       "      <td>28.129999</td>\n",
       "      <td>26.008713</td>\n",
       "      <td>264200</td>\n",
       "    </tr>\n",
       "  </tbody>\n",
       "</table>\n",
       "</div>"
      ],
      "text/plain": [
       "         Date       Open       High        Low      Close  Adj Close  Volume\n",
       "0  2020-01-02  28.600000  28.650000  28.459999  28.639999  26.480253  262800\n",
       "1  2020-01-03  28.250000  28.379999  28.080000  28.129999  26.008713  663600\n",
       "2  2020-01-06  27.719999  28.059999  27.719999  28.049999  25.934746  463000\n",
       "3  2020-01-07  28.389999  28.389999  28.180000  28.209999  26.082678  341800\n",
       "4  2020-01-08  27.990000  28.219999  27.990000  28.129999  26.008713  264200"
      ]
     },
     "execution_count": 2,
     "metadata": {},
     "output_type": "execute_result"
    }
   ],
   "source": [
    "import pandas as pd\n",
    "import numpy as np\n",
    "\n",
    "# Example synthetic data (replace with your project dataset)\n",
    "df = pd.read_csv('data/HMC.csv')\n",
    "df.head()"
   ]
  },
  {
   "cell_type": "markdown",
   "id": "478cde3e",
   "metadata": {},
   "source": [
    "## Implementing 2 new features"
   ]
  },
  {
   "cell_type": "code",
   "execution_count": 3,
   "id": "cb98e55a",
   "metadata": {},
   "outputs": [
    {
     "name": "stderr",
     "output_type": "stream",
     "text": [
      "C:\\Users\\ahana\\AppData\\Local\\Temp\\ipykernel_32268\\2771569523.py:3: FutureWarning: A value is trying to be set on a copy of a DataFrame or Series through chained assignment using an inplace method.\n",
      "The behavior will change in pandas 3.0. This inplace method will never work because the intermediate object on which we are setting values always behaves as a copy.\n",
      "\n",
      "For example, when doing 'df[col].method(value, inplace=True)', try using 'df.method({col: value}, inplace=True)' or df[col] = df[col].method(value) instead, to perform the operation inplace on the original object.\n",
      "\n",
      "\n",
      "  df['daily_returns'].fillna(0, inplace=True)  # Handle NaN for the first row\n"
     ]
    }
   ],
   "source": [
    "# New feature 1: Get the daily returns of the 'Close' price\n",
    "df['daily_returns'] = df['Close'].diff() / df['Close'].shift(1)\n",
    "df['daily_returns'].fillna(0, inplace=True)  # Handle NaN for the first row\n",
    "# Alternative: df['daily_returns'] = df['Close'].pct_change()"
   ]
  },
  {
   "cell_type": "markdown",
   "id": "dd90c759",
   "metadata": {},
   "source": [
    "### Reason\n",
    "When dealing with stock prices, daily returns are a crucial feature that captures the percentage change in price from one day to the next. This feature is often more informative than raw prices for modeling purposes, as it normalizes the data and highlights volatility and trends."
   ]
  },
  {
   "cell_type": "code",
   "execution_count": 4,
   "id": "f7d5fca1",
   "metadata": {},
   "outputs": [],
   "source": [
    "# New feature 2: square the 'Close' price to capture non-linear effects\n",
    "df['close_squared'] = df['Close'] ** 2"
   ]
  },
  {
   "cell_type": "markdown",
   "id": "2ab0472e",
   "metadata": {},
   "source": [
    "### Reason\n",
    "The reason we are squaring the close price is because we want to capture non-linear effects."
   ]
  },
  {
   "cell_type": "markdown",
   "id": "fb276c54",
   "metadata": {},
   "source": []
  }
 ],
 "metadata": {
  "kernelspec": {
   "display_name": "fe-course",
   "language": "python",
   "name": "python3"
  },
  "language_info": {
   "codemirror_mode": {
    "name": "ipython",
    "version": 3
   },
   "file_extension": ".py",
   "mimetype": "text/x-python",
   "name": "python",
   "nbconvert_exporter": "python",
   "pygments_lexer": "ipython3",
   "version": "3.13.5"
  }
 },
 "nbformat": 4,
 "nbformat_minor": 5
}
