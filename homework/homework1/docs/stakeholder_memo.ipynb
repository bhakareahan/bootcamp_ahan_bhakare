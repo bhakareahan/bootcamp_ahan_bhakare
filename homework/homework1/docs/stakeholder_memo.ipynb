{
 "cells": [
  {
   "cell_type": "markdown",
   "id": "b0e4f4c2",
   "metadata": {},
   "source": [
    "# Stakeholder Memo\n",
    "\n",
    "### Background & Problem\n",
    "The S&P 500 is one of the most liquid indices in the world. However, because of the high-liquidity, creating high frequency strategies to exploit any potential mispricing can be very difficult due to slippage and cumulative trading costs. The purpose of this analysis is to run through some basic technical indicators (Moving Averages) and some quantitative metrics (VIX daily volatility) to try to discover any potential trading ideas. Is it possible to create a strategy that successfully discovers any such short term strategy?\n",
    "\n",
    "### Stakeholders & Users\n",
    "**Decision owner**: The decision owner is the PM that is managing the fund that wants this problem explored/solved.\n",
    "\n",
    "**Tool/operator**: Traders who will actively monitor the algorithm and its functionality.\n",
    "\n",
    "### Proposed Solution\n",
    "**Descriptive / Predictive / Causal**: Descriptive/Predictive\n",
    "\n",
    "**Metric or artifact**: Will use technical indicators, like MA and EMA, and quantitative intervals, like daily volatility bands, to assess PnL.\n",
    "\n",
    "### Assumptions & Constraints\n",
    "\n",
    "- Market data relating to the S&P and VIX are continuous and available since it is a very liquid and highly watched index. \n",
    "- For higher frequencies, we assume that we will have 15-minute interval data.\n",
    "- Constraints include slippage costs as they are unknown at this time, so we will assume a 0.3% slippage cost to accommodate this pitfall.\n",
    "\n",
    "### Deliverables\n",
    "- Identifying data sources that provide S&P market data.\n",
    "- Create a backtesting system which identifies profitability of any identified strategy.\n",
    "- Create a tradesheet which will help analyze how trading strategy responds to certain price action.\n",
    "\n",
    "### Risks & Unknowns\n",
    "- **Known**: Slippage is present within these high frequency trades (hence why there is an assumed slippage cost added). Additionally, bid-ask prices are not exactly known, so spread might larger at certain points. To counter this, we include that slippage to create the illusion of a bid and ask being present.\n",
    "- **Unknown**: Major news events that won't be accounted in these models as they do not have the capability to analyze this component."
   ]
  }
 ],
 "metadata": {
  "language_info": {
   "name": "python"
  }
 },
 "nbformat": 4,
 "nbformat_minor": 5
}
